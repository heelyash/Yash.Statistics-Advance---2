{
  "nbformat": 4,
  "nbformat_minor": 0,
  "metadata": {
    "colab": {
      "provenance": []
    },
    "kernelspec": {
      "name": "python3",
      "display_name": "Python 3"
    },
    "language_info": {
      "name": "python"
    }
  },
  "cells": [
    {
      "cell_type": "code",
      "execution_count": null,
      "metadata": {
        "id": "gi569gClPOKm"
      },
      "outputs": [],
      "source": [
        "#Que 1.  Define the z-statistic and explain its relationship to the standard normal distribution. How is the\n",
        "#z-statistic used in hypothesis testing\n",
        "\n",
        "\n",
        "#Ans . Z-score, also known as the standard score or Z-statistics, is a powerful statistical concept that plays a vital role in the world of data science.\n",
        "#It provides a standardized method for comparing data points from different distributions, #allowing data scientists to better understand and interpret the\n",
        "#relative positioning of individual data points within a dataset.\n",
        "\n",
        "#Z-scores represent a statistical technique of measuring the deviation of data from the mean. It is also used with Z-test which is a hypothesis testing\n",
        " #statistical technique (one sample Z-test or two samples Z-test). As a data scientist, it is of #utmost importance to be well-versed with the z-score formula\n",
        "#and its various applications. Having great clarity on the concept of Z-score and/or Z-statistics will help you use the correct formula for calculation in the\n",
        "#appropriate cases. In #this blog post, we will discuss the concept of Z-score, concepts, formula, and examples.\n",
        "\n",
        "#Z-score / Z-statistics Concepts & Formula\n",
        "\n",
        "\n",
        "#The Z-score formula differs when considering the sample data, or, when considering sampling distributions with an end goal of whether finding the deviation\n",
        "#from mean, or, performing hypothesis testing respectively.\n",
        "\n",
        "#Z-score for sample data: In case of sample data, the objective is to find number of standard deviations an observation is away from the sample mean\n",
        "#Z-score for sampling distributions: In case of sampling distribution, the goal is to perform Z-test and find the value of Z-score or Z-statistics for hypothesis\n",
        "#testing and rejecting the null hypothesis or otherwise. The hypothesis tests where Z-statistics get used is one-sample Z-test and two-samples Z-test.\n",
        "#Additionally, z-score at different confidence intervals can be used to estimate the population mean based on a given sample or difference in the population\n",
        "#means based on two different samples.\n",
        "\n",
        "#When considering the sampling distribution, Z-score or Z-statistics is defined as the number of standard deviations between the sample mean and the population\n",
        "#mean (mean of the sampling distribution). Note that the sampling distribution is used in the hypothesis testing technique known as Z-test. Recall that the\n",
        "#sampling distribution is defined as the distribution of all the possible samples that could be drawn from a population. Z-test for sampling distribution is used\n",
        "#to determine whether the sample mean is statistically different from the population mean. The value of Z-statistics is used to determine whether to reject the\n",
        "#null hypothesis or otherwise. The value of Z-statistics is compared with the critical value of Z-statistics which is determined from the Z-table. If the value\n",
        "#of Z-statistics falls in the rejection region, it indicates that there is sufficient evidence to reject the null hypothesis. The formula for z-statistics in\n",
        "#Z-test is the following:\n",
        "\n"
      ]
    },
    {
      "cell_type": "code",
      "source": [
        "#Question2 : What is a p-value, and how is it used in hypothesis testing? What does it mean if the p-value is\n",
        "#very small (e.g., 0.01)\n",
        "\n",
        "#Answer - P-Value in Statistical Hypothesis Tests: What is it?\n",
        "#P Value Definition\n",
        "#A p value is used in hypothesis testing to help you support or reject the null hypothesis. The p value is the evidence against a null hypothesis. The smaller\n",
        "#the p-value, the stronger the evidence that you should reject the null hypothesis.\n",
        "\n",
        "#P values are expressed as decimals although it may be easier to understand what they are if you convert them to a percentage. For example, a p value of 0.0254\n",
        "#is 2.54%. This means there is a 2.54% chance your results could be random (i.e. happened by chance). That’s pretty tiny. On the other hand, a large p-value of\n",
        "#.9(90%) means your results have a 90% probability of being completely random and not due to anything in your experiment. Therefore, the smaller the p-value, the\n",
        "# more important (“significant“) your results.\n",
        "\n",
        "\n",
        "# hypothesis test is used to test whether or not some assumption about a population parameter is true.\n",
        "\n",
        "#Whenever we perform a hypothesis test, we always define a null and alternative hypothesis:\n",
        "\n",
        "#Null Hypothesis (H0): The sample data occurs purely from chance.\n",
        "#Alternative Hypothesis (HA): The sample data is influenced by some non-random cause.\n",
        "#If the p-value of the hypothesis test is less than some significance level (e.g. α = .01), then we can reject the null hypothesis and conclude that we\n",
        "#have sufficient evidence to say that the alternative hypothesis is true.\n",
        "\n",
        "\n",
        "\n"
      ],
      "metadata": {
        "id": "S6RkDSVoXwvZ"
      },
      "execution_count": null,
      "outputs": []
    },
    {
      "cell_type": "code",
      "source": [
        "#Que 3 .: Compare and contrast the binomial and Bernoulli distributions ?\n",
        "\n",
        "\n",
        "#Answer Bernoulli Trials and Binomial Distribution are the fundamental topics in the study of probability and probability distributions. Bernoulli’s Trials are\n",
        "#those trials in probability where only two possible outcomes are Success and Failure or True and False. Due to this fact of two possible outcomes, it is also\n",
        "#called the Binomial Trial.\n",
        "\n",
        "#Binomial Distribution is the sequence of independent experiments with each experiment being a binomial trial. In this article, we are going to discuss the\n",
        "#Bernoulli Trials in detail with the related theorems as well. Also, we will study the Binomial Distribution after the understanding Bernoulli\n",
        "#Trial.\n",
        "\n",
        "\n",
        "#Binomial VS Bernoulli Keypoints!\n",
        "#Bernoulli deals with the outcome of the single trial of the event, whereas Binomial deals with the outcome of the multiple trials of the single event.\n",
        "#Bernoulli is used when the outcome of an event is required for only one time, whereas the Binomial is used when the outcome of an event is required multiple\n",
        "#times.\n",
        "\n",
        "\n",
        "#Now, if we flip a coin multiple times then the sum of the Bernoulli random variables will follow a Binomial distribution.\n",
        "\n",
        "#For example, suppose we flip a coin 5 times and we want to know the probability of obtaining heads k times. We would say that the random variable X follows a\n",
        "#Binomial distribution.\n",
        "\n",
        "![picutre](https://drive.google.com/uc/d/1ZfiSfUgse9W2wCbJ_4Zywo1vItUvG09E/view?usp=sharing)\n",
        "\n"
      ],
      "metadata": {
        "colab": {
          "base_uri": "https://localhost:8080/"
        },
        "id": "bqJh_Wi3ZjVG",
        "outputId": "16b6d4e7-0e7d-4921-8419-7c91cada3a97"
      },
      "execution_count": 13,
      "outputs": [
        {
          "output_type": "stream",
          "name": "stdout",
          "text": [
            "/bin/bash: -c: line 1: syntax error near unexpected token `https://drive.google.com/uc/d/1ZfiSfUgse9W2wCbJ_4Zywo1vItUvG09E/view?usp=sharing'\n",
            "/bin/bash: -c: line 1: `[picutre](https://drive.google.com/uc/d/1ZfiSfUgse9W2wCbJ_4Zywo1vItUvG09E/view?usp=sharing)'\n"
          ]
        }
      ]
    },
    {
      "cell_type": "code",
      "source": [
        "#Que 4. Under what conditions is the binomial distribution used, and how does it relate to the Bernoulli distribution ?\n",
        "\n",
        "#Ans . Binomial probability distributions are useful in a number of settings. It is important to know when this type of distribution should be used. We will\n",
        "#examine all of the conditions that are necessary in order to use a binomial distribution.\n",
        "\n",
        "#The basic features that we must have are for a total of n independent trials are conducted and we want to find out the probability of r successes, where each success has probability p of occurring. There are several things stated and implied in this brief description. The definition boils down to these four conditions:\n",
        "\n",
        "#1.Fixed number of trials\n",
        "#2.Independent trials\n",
        "#3.Two different classifications\n",
        "#4.The probability of success stays the same for all trials\n",
        "\n",
        "#All of these must be present in the process under investigation in order to use the binomial probability formula or tables. A brief description of each of these\n",
        "#follows.\n",
        "\n",
        "#Fixed Trials\n",
        "#The process being investigated must have a clearly defined number of trials that do not vary. We cannot alter this number midway through our analysis. Each\n",
        "#trial must be performed the same way as all of the others, although the outcomes may vary. The number of trials is indicated by an n in the formula.\n",
        "\n",
        "#An example of having fixed trials for a process would involve studying the outcomes from rolling a die ten times. Here each roll of the die is a trial. The\n",
        "#total number of times that each trial is conducted is defined from the outset.\n",
        "\n",
        "#Independent Trials\n",
        "#Each of the trials has to be independent. Each trial should have absolutely no effect on any of the others. The classical examples of rolling two dice or\n",
        "#flipping several coins illustrate independent events. Since the events are independent we are able to use the multiplication rule to multiply the probabilities\n",
        " #together.\n",
        "\n",
        "#In practice, especially due to some sampling techniques, there can be times when trials are not technically independent. A binomial distribution can sometimes be\n",
        " #used in these situations as long as the population is larger relative to the sample.\n",
        "\n",
        "#Two Classifications\n",
        "#Each of the trials is grouped into two classifications: successes and failures. Although we typically think of success as a positive thing, we should not read\n",
        "#too much into this term. We are indicating that the trial is a success in that it lines up with what we have determined to call a success.\n",
        "\n",
        "#As an extreme case to illustrate this, suppose we are testing the failure rate of light bulbs. If we want to know how many in a batch will not work, we could\n",
        "#define success for our trial to be when we have a light bulb that fails to work. A failure of the trial is when the light bulb works. This may sound a bit\n",
        " #backward, but there may be some good reasons for defining the successes and failures of our trial as we have done. It may be preferable, for marking purposes,\n",
        " #to stress that there is a low probability of a light bulb not working rather than a high probability of a light bulb working.\n",
        "\n",
        "#Same Probabilities\n",
        "#The probabilities of successful trials must remain the same throughout the process we are studying. Flipping coins is one example of this. No matter how many\n",
        "#coins are tossed, the probability of flipping a head is 1/2 each time.\n",
        "\n",
        "#This is another place where theory and practice are slightly different. Sampling without replacement can cause the probabilities from each trial to fluctuate\n",
        "#slightly from each other. Suppose there are 20 beagles out of 1000 dogs. The probability of choosing a beagle at random is 20/1000 = 0.020. Now choose again\n",
        "#from the remaining dogs. There are 19 beagles out of 999 dogs. The probability of selecting another beagle is 19/999 = 0.019. The value 0.2 is an appropriate\n",
        "#estimate for both of these trials. As long as the population is large enough, this sort of estimation does not pose a problem with using the binomial distribution."
      ],
      "metadata": {
        "id": "eVz7Q7wue_-W"
      },
      "execution_count": null,
      "outputs": []
    },
    {
      "cell_type": "code",
      "source": [
        "#Que 5.  What are the key properties of the Poisson distribution, and when is it appropriate to use this\n",
        "#distribution?\n",
        "\n",
        "#Ans . A Poisson distribution is a discrete probability distribution, meaning that it gives the probability of a discrete (i.e., countable) outcome. For Poisson\n",
        "#distributions, the discrete outcome is the number of times an event occurs, represented by k.\n",
        "\n",
        "#You can use a Poisson distribution to predict or explain the number of events occurring within a given interval of time or space. “Events” could be anything\n",
        "#from disease cases to customer purchases to meteor strikes. The interval can be any specific amount of time or space, such as 10 days or 5 square inches.\n",
        "\n",
        "#You can use a Poisson distribution if:\n",
        "\n",
        "#Individual events happen at random and independently. That is, the probability of one event doesn’t affect the probability of another event.\n",
        "#You know the mean number of events occurring within a given interval of time or space. This number is called λ (lambda), and it is assumed to be constant.\n",
        "#When events follow a Poisson distribution, λ is the only thing you need to know to calculate the probability of an event occurring a certain number of times.\n",
        "\n",
        "#Examples of Poisson distributions\n",
        "#In general, Poisson distributions are often appropriate for count data. Count data is composed of observations that are non-negative integers (i.e., numbers\n",
        "#that are used for counting, such as 0, 1, 2, 3, 4, and so on).\n",
        "\n",
        "#Horse kick deaths\n",
        "#One of the first applications of the Poisson distribution was by statistician Ladislaus Bortkiewicz. In the late 1800s, he investigated accidental deaths by\n",
        "#horse kick of soldiers in the Prussian army. He analyzed 20 years of data for 10 army corps, equivalent to 200 years of observations of one corps.\n",
        "\n",
        "#The following histogram shows simulated data that are similar to what Bortkiewicz observed:\n",
        "\n",
        "![picutre](https://drive.google.com/file/d/1jBPYayYXtG1h0oZlq_15ZVPXDqrpe39b/view?usp=drive_link)\n",
        "\n"
      ],
      "metadata": {
        "colab": {
          "base_uri": "https://localhost:8080/"
        },
        "id": "Hzbff67TghkG",
        "outputId": "81574976-c80d-4ceb-b102-69ffd211970c"
      },
      "execution_count": 14,
      "outputs": [
        {
          "output_type": "stream",
          "name": "stdout",
          "text": [
            "/bin/bash: -c: line 1: syntax error near unexpected token `https://drive.google.com/file/d/1jBPYayYXtG1h0oZlq_15ZVPXDqrpe39b/view?usp=drive_link'\n",
            "/bin/bash: -c: line 1: `[picutre](https://drive.google.com/file/d/1jBPYayYXtG1h0oZlq_15ZVPXDqrpe39b/view?usp=drive_link)'\n"
          ]
        }
      ]
    },
    {
      "cell_type": "code",
      "source": [
        "#Que 6: Define the terms \"probability distribution\" and \"probability density function\" (PDF). How does a\n",
        "#PDF differ from a probability mass function (PMF)?\n",
        "\n",
        "#Ans . Probability Distribution\n",
        "#Probability distribution is a function that gives the relative likelihood of occurrence of all possible outcomes of an experiment. There are two important .\n",
        "#functions that are used to describe a probability distribution. These are the probability density function or probability mass function and the cumulative\n",
        "#distribution function.\n",
        "\n",
        "#In statistics, there can be two types of data, namely, discrete and continuous. Based on this, a probability distribution can be classified into a discrete\n",
        "#. probability distribution and a continuous probability distribution. In this article, we will learn more about probability distribution and the various aspects\n",
        "#that are associated with it.\n",
        "\n",
        "#Probability distribution is a function that is used to give the probability of all the possible values that a random variable can take. A discrete probability\n",
        "#istribution can be described by a probability distribution function and a probability mass function. Similarly, a probability distribution function and a\n",
        "#probability density function are used to describe a continuous probability distribution. Binomial, Bernoulli, normal, and geometric distributions are examples\n",
        "#of probability distributions.\n",
        "\n",
        "#Probability Density Function is used for calculating the probabilities for continuous random variables. When the cumulative distribution function (CDF) is\n",
        "#differentiated we get the probability density function (PDF). Both functions are used to represent the probability distribution of a continuous random variable.\n",
        "\n",
        "#The probability density function is defined over a specific range. By differentiating CDF we get PDF and by integrating the probability density function we can\n",
        "#get the cumulative density function.\n",
        "\n",
        "#Probability Density Function Definition\n",
        "#Probability density function is the function that represents the density of probability for a continuous random variable over the specified ranges.\n",
        "\n",
        "\n",
        "#Probability Distribution Function and Probability Density Function\n",
        "#Both the probability distribution function and the probability density function are used to describe a probability distribution. A probability distribution\n",
        "#function is used to summarize the probability distribution of a random variable. Such a function is well-defined for both continuous and discrete probability\n",
        "#distributions. A probability density function (pdf), on the other hand, can only be used for continuous distributions. It can be defined as the likelihood that a\n",
        "#continuous random variable, X, will take on a value that lies between a given range of values. For discrete distributions, a probability mass function (pmf) is\n",
        "#used which is analogous to the probability density function. This function gives the probability that a random variable will exactly take on a specific value.\n",
        "#use the pdf in place of the pmf for continuous distributions as the probability that a continuous random variable will take on an exact value is 0.\n",
        "\n"
      ],
      "metadata": {
        "id": "0Z5kXmL1i-tc"
      },
      "execution_count": null,
      "outputs": []
    },
    {
      "cell_type": "code",
      "source": [
        " #Question7: Explain the Central Limit Theorem (CLT) with example ?\n",
        "\n",
        " #Answer - The central limit theorem relies on the concept of a sampling distribution, which is the probability distribution of a statistic for a large number of samples taken from a population.\n",
        "\n",
        "#Imagining an experiment may help you to understand sampling distributions:\n",
        "\n",
        "#Suppose that you draw a random sample from a population and calculate a statistic for the sample, such as the mean.\n",
        "#Now you draw another random sample of the same size, and again calculate the mean.\n",
        "#You repeat this process many times, and end up with a large number of means, one for each sample.\n",
        "#The distribution of the sample means is an example of a sampling distribution.\n",
        "\n",
        "#The central limit theorem says that the sampling distribution of the mean will always be normally distributed, as long as the sample size is large enough.\n",
        "#Regardless of whether the population has a normal, Poisson, binomial, or any other distribution, the sampling distribution of the mean will be normal.\n",
        "\n",
        "#A normal distribution is a symmetrical, bell-shaped distribution, with increasingly fewer observations the further from the center of the distribution.\n",
        "\n",
        "#Suppose that you’re interested in the age that people retire in the United States. The population is all retired Americans, and the distribution of the population might look something like\n",
        "\n",
        "![picture](https://drive.google.com/file/d/11N-_2Ug_QB9m_fy3VfyfFVksSawQ57gG/view?usp=drive_link)\n",
        "\n",
        "\n",
        "#Age at retirement follows a left-skewed distribution. Most people retire within about five years of the mean retirement age of 65 years. However, there’s a\n",
        "#“long tail” of people who retire much younger, such as at 50 or even 40 years old. The population has a standard deviation of 6 years.\n",
        "\n",
        "#Imagine that you take a small sample of the population. You randomly select five retirees and ask them what age they retired.\n",
        "\n",
        "![picture](https://drive.google.com/file/d/17jo09XstZVoO2CzEndUX7JhiPO5Kno4I/view?usp=drive_link)\n"
      ],
      "metadata": {
        "colab": {
          "base_uri": "https://localhost:8080/"
        },
        "id": "Z17jJTG0k8zR",
        "outputId": "6ede5fbf-a42d-4bd8-f2c1-93dcdea6a3d9"
      },
      "execution_count": 16,
      "outputs": [
        {
          "output_type": "stream",
          "name": "stdout",
          "text": [
            "/bin/bash: -c: line 1: syntax error near unexpected token `https://drive.google.com/file/d/11N-_2Ug_QB9m_fy3VfyfFVksSawQ57gG/view?usp=drive_link'\n",
            "/bin/bash: -c: line 1: `[picture](https://drive.google.com/file/d/11N-_2Ug_QB9m_fy3VfyfFVksSawQ57gG/view?usp=drive_link)'\n",
            "/bin/bash: -c: line 1: syntax error near unexpected token `https://drive.google.com/file/d/17jo09XstZVoO2CzEndUX7JhiPO5Kno4I/view?usp=drive_link'\n",
            "/bin/bash: -c: line 1: `[picture](https://drive.google.com/file/d/17jo09XstZVoO2CzEndUX7JhiPO5Kno4I/view?usp=drive_link)'\n"
          ]
        }
      ]
    },
    {
      "cell_type": "code",
      "source": [
        "#Question8: Compare z-scores and t-scores. When should you use a z-score, and when should a t-score be applied instead?\n",
        "\n",
        "#Answer: When you are learning statistics, there are two different but important concepts that you will learn: the z score and t score. However, according to the\n",
        "#emails and messages that we get, we have a clear idea that many students find it difficult to understand the differences between z score vs t score. So, today,\n",
        "#we decided to tell you a bit more about both the z score and the t score as well as what is the main difference between them. In addition, and in what concerns\n",
        "#to the more practical aspect of statistics, we will also show you when you should use the z score and when you need to use the t score.\n",
        "\n",
        "#What Is A Z Score?\n",
        "\n",
        "#he z score, which is also known as the standard score, gives you an idea about how far from the mean a data point is. In case you want to be more technical,\n",
        "#then you can say that the z score is a measure of how many standard deviations below or above the population mean a raw score is.\n",
        "\n",
        "#One of the most important aspects to keep in mind about the z score is that it can be placed on a normal distribution curve. As you probably already know, z\n",
        "#scores range between -3 standard deviations that would be when they fall to the far left of the normal distribution curve and up to +3 standard deviations, which is when they fall to the far right of the normal distribution curve.\n",
        "\n",
        "#When you need to use a z score, you need to know the mean μ as well as the population standard deviation σ.\n",
        "\n",
        "#Learn how to use the standard normal distribution table.\n",
        "\n",
        "#Notice that z scores are a popular way to compare results to a normal population. As you know, results from tests or surveys have thousands of possible results\n",
        "#and these may often seem meaningless. While you may know that you weigh 100 pounds, this is simply meaningless unless you compare it with the average population\n",
        "#’s mean weight.\n",
        "\n"
      ],
      "metadata": {
        "id": "mgCvR8YZn242"
      },
      "execution_count": null,
      "outputs": []
    },
    {
      "cell_type": "code",
      "source": [
        "#Que 9. Given a sample mean of 105, a population mean of 100, a standard deviation of 15, and a sample\n",
        "#size of 25, calculate the z-score and p-value. Based on a significance level of 0.05, do you reject or fail to\n",
        "#reject the null hypothesis?\n",
        " #Task: Write Python code to calculate the z-score and p-value for the given data.\n",
        " #Objective: Apply the formula for the z-score and interpret the p-value for hypothesis testing\n",
        "\n",
        " #Ans.\n",
        "\n",
        "from scipy.stats import norm\n",
        "\n",
        "# Given data\n",
        "sample_mean = 105\n",
        "population_mean = 100\n",
        "standard_deviation = 15\n",
        "sample_size = 25\n",
        "significance_level = 0.05\n",
        "\n",
        "# Calculate the standard error\n",
        "standard_error = standard_deviation / (sample_size ** 0.5)\n",
        "\n",
        "# Calculate the z-score\n",
        "z_score = (sample_mean - population_mean) / standard_error\n",
        "\n",
        "# Calculate the p-value\n",
        "p_value = 1 - norm.cdf(z_score)\n",
        "\n",
        "print(\"Z-score:\", z_score)\n",
        "print(\"P-value:\", p_value)\n",
        "\n",
        "# Hypothesis testing\n",
        "if p_value < significance_level:\n",
        "    print(\"Reject the null hypothesis\")\n",
        "else:\n",
        "    print(\"Fail to reject the null hypothesis\")"
      ],
      "metadata": {
        "colab": {
          "base_uri": "https://localhost:8080/"
        },
        "id": "3ZHtK81iq4B2",
        "outputId": "ebc59b06-8677-460b-9f72-14c2426ac28b"
      },
      "execution_count": 18,
      "outputs": [
        {
          "output_type": "stream",
          "name": "stdout",
          "text": [
            "Z-score: 1.6666666666666667\n",
            "P-value: 0.047790352272814696\n",
            "Reject the null hypothesis\n"
          ]
        }
      ]
    },
    {
      "cell_type": "code",
      "source": [
        "#Que 10. imulate a binomial distribution with 10 trials and a probability of success of 0.6 using Python.\n",
        "# Generate 1,000 samples and plot the distribution. What is the expected mean and variance?\n",
        "#  Task: Use Python to generate the data, plot the distribution, and calculate the mean and variance.\n",
        "#  Objective: Understand the properties of a binomial distribution and verify them through simulation\n",
        "\n",
        "import numpy as np\n",
        "import matplotlib.pyplot as plt\n",
        "from scipy.stats import binom\n",
        "\n",
        "# Parameters of the binomial distribution\n",
        "n = 10  # Number of trials\n",
        "p = 0.6  # Probability of success\n",
        "\n",
        "# Generate 1000 samples from the binomial distribution\n",
        "samples = binom.rvs(n=n, p=p, size=1000)\n",
        "\n",
        "# Calculate the mean and variance\n",
        "expected_mean = n * p\n",
        "expected_variance = n * p * (1 - p)\n",
        "\n",
        "# Plot the distribution\n",
        "plt.hist(samples, bins=np.arange(min(samples), max(samples) + 2) - 0.5, density=True, alpha=0.6, color='b')\n",
        "plt.xlabel('Number of Successes')\n",
        "plt.ylabel('Probability')\n",
        "plt.title('Binomial Distribution (n=10, p=0.6)')\n",
        "\n",
        "# Print the expected mean and variance\n",
        "print(\"Expected Mean:\", expected_mean)\n",
        "print(\"Expected Variance:\", expected_variance)\n",
        "\n",
        "plt.show()"
      ],
      "metadata": {
        "colab": {
          "base_uri": "https://localhost:8080/",
          "height": 507
        },
        "id": "ZYS_cGMBrzD8",
        "outputId": "699774c9-af5b-462e-e9a1-d2f7f2d443e2"
      },
      "execution_count": 20,
      "outputs": [
        {
          "output_type": "stream",
          "name": "stdout",
          "text": [
            "Expected Mean: 6.0\n",
            "Expected Variance: 2.4000000000000004\n"
          ]
        },
        {
          "output_type": "display_data",
          "data": {
            "text/plain": [
              "<Figure size 640x480 with 1 Axes>"
            ],
            "image/png": "[encoded data removed]"
          },
          "metadata": {}
        }
      ]
    },
    {
      "cell_type": "code",
      "source": [],
      "metadata": {
        "id": "dpc0dInar4x1"
      },
      "execution_count": null,
      "outputs": []
    }
  ]
}